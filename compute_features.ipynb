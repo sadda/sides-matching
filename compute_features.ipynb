{
 "cells": [
  {
   "cell_type": "code",
   "execution_count": 1,
   "metadata": {},
   "outputs": [],
   "source": [
    "import sys\n",
    "sys.path.append('..')\n",
    "sys.path.append('../../wildlife-tools')\n",
    "\n",
    "import os\n",
    "import numpy as np\n",
    "import torchvision.transforms as T\n",
    "import matplotlib.pyplot as plt\n",
    "\n",
    "from wildlife_datasets import datasets\n",
    "from analysis import *\n",
    "from utils import *"
   ]
  },
  {
   "cell_type": "code",
   "execution_count": 2,
   "metadata": {},
   "outputs": [],
   "source": [
    "model_name = 'MegaDescriptor-L-384'\n",
    "k = 5\n",
    "root_datasets = '../data'"
   ]
  },
  {
   "cell_type": "code",
   "execution_count": 6,
   "metadata": {},
   "outputs": [
    {
     "name": "stderr",
     "output_type": "stream",
     "text": [
      "c:\\Users\\lukas\\Downloads\\GitHub\\wildlife-datasets\\venv_wt\\lib\\site-packages\\torch\\functional.py:507: UserWarning: torch.meshgrid: in an upcoming release, it will be required to pass the indexing argument. (Triggered internally at ..\\aten\\src\\ATen\\native\\TensorShape.cpp:3550.)\n",
      "  return _VF.meshgrid(tensors, **kwargs)  # type: ignore[attr-defined]\n",
      "100%|█████████████████████████████████████████████████████████████| 214/214 [06:50<00:00,  1.92s/it]\n",
      "100%|█████████████████████████████████████████████████████████████| 214/214 [06:39<00:00,  1.87s/it]\n",
      "100%|███████████████████████████████████████████████████████████████| 61/61 [01:39<00:00,  1.62s/it]\n",
      "100%|███████████████████████████████████████████████████████████████| 61/61 [01:37<00:00,  1.60s/it]\n",
      "100%|███████████████████████████████████████████████████████████████| 26/26 [00:48<00:00,  1.85s/it]\n",
      "100%|███████████████████████████████████████████████████████████████| 26/26 [00:42<00:00,  1.63s/it]\n",
      "100%|█████████████████████████████████████████████████████████████| 241/241 [11:24<00:00,  2.84s/it]\n",
      "100%|█████████████████████████████████████████████████████████████| 241/241 [10:11<00:00,  2.54s/it]\n"
     ]
    }
   ],
   "source": [
    "dataset_classes = [\n",
    "    datasets.HyenaID2022,\n",
    "    datasets.LeopardID2022,\n",
    "    datasets.NyalaData,    \n",
    "    datasets.SarahZelvy,\n",
    "    datasets.SeaTurtleIDHeads,\n",
    "    datasets.StripeSpotter,\n",
    "    datasets.WhaleSharkID,\n",
    "    datasets.ZindiTurtleRecall,\n",
    "]\n",
    "\n",
    "img_size = int(model_name.split('-')[-1])\n",
    "for dataset_class in dataset_classes:\n",
    "    for flip in [True, False]:\n",
    "        if flip:\n",
    "            transform = T.Compose([T.RandomHorizontalFlip(1), T.Resize([img_size, img_size]), T.ToTensor(), T.Normalize(mean=(0.485, 0.456, 0.406), std=(0.229, 0.224, 0.225))])\n",
    "        else:\n",
    "            transform = T.Compose([T.Resize([img_size, img_size]), T.ToTensor(), T.Normalize(mean=(0.485, 0.456, 0.406), std=(0.229, 0.224, 0.225))])\n",
    "\n",
    "        dataset_name = dataset_class.__name__\n",
    "        root = os.path.join(root_datasets, dataset_name)\n",
    "        file_name = os.path.join('features', f'features_{dataset_name}_flip={flip}_{model_name}.npy')\n",
    "\n",
    "        d = dataset_class(root)\n",
    "        if 'bbox' in d.df:\n",
    "            dataset = WD(d.df, d.root, transform=transform, img_load='bbox')\n",
    "        else:\n",
    "            dataset = WD(d.df, d.root, transform=transform)\n",
    "        extractor = get_extractor(model_name='hf-hub:BVRA/'+model_name, batch_size=32, device='cuda')\n",
    "        features = get_normalized_features(file_name, dataset, extractor)"
   ]
  },
  {
   "cell_type": "code",
   "execution_count": 7,
   "metadata": {},
   "outputs": [
    {
     "name": "stdout",
     "output_type": "stream",
     "text": [
      "<class 'wildlife_datasets.datasets.datasets.HyenaID2022'>\n",
      "0.7888888888888889\n",
      "0.7841269841269841\n",
      "<class 'wildlife_datasets.datasets.datasets.LeopardID2022'>\n",
      "0.7501744591765527\n",
      "0.7578506629448709\n",
      "<class 'wildlife_datasets.datasets.datasets.NyalaData'>\n",
      "0.38317757009345793\n",
      "0.39485981308411217\n",
      "<class 'wildlife_datasets.datasets.datasets.SarahZelvy'>\n",
      "0.7575757575757576\n",
      "0.7676767676767676\n",
      "<class 'wildlife_datasets.datasets.datasets.SeaTurtleIDHeads'>\n",
      "0.9117840684660962\n",
      "0.9091507570770243\n",
      "<class 'wildlife_datasets.datasets.datasets.StripeSpotter'>\n",
      "0.9878048780487805\n",
      "0.9939024390243902\n",
      "<class 'wildlife_datasets.datasets.datasets.WhaleSharkID'>\n",
      "0.61198738170347\n",
      "0.6151419558359621\n",
      "<class 'wildlife_datasets.datasets.datasets.ZindiTurtleRecall'>\n",
      "0.7556781310837118\n",
      "0.754380272550292\n"
     ]
    }
   ],
   "source": [
    "from wildlife_datasets import splits\n",
    "\n",
    "for dataset_class in dataset_classes:\n",
    "    print(dataset_class)\n",
    "    for flip in [True, False]:\n",
    "        dataset_name = dataset_class.__name__\n",
    "        root = os.path.join(root_datasets, dataset_name)\n",
    "        file_name = os.path.join('features', f'features_{dataset_name}_flip={flip}_{model_name}.npy')\n",
    "\n",
    "        d = dataset_class(root)\n",
    "        features = get_normalized_features(file_name)\n",
    "\n",
    "        splitter = splits.ClosedSetSplit(0.8)\n",
    "        idx_database, idx_query = splitter.split(d.df)[0]\n",
    "\n",
    "        idx_true, idx_pred = compute_predictions_closed(features[idx_query], features[idx_database])\n",
    "        idx_true = idx_query[idx_true]\n",
    "        idx_pred = idx_database[idx_pred]\n",
    "\n",
    "        labels = d.df['identity'].to_numpy()\n",
    "        accuracy = np.mean(labels[idx_true] == labels[idx_pred[:,0]])\n",
    "\n",
    "        print(accuracy)"
   ]
  }
 ],
 "metadata": {
  "kernelspec": {
   "display_name": "venv_wt",
   "language": "python",
   "name": "python3"
  },
  "language_info": {
   "codemirror_mode": {
    "name": "ipython",
    "version": 3
   },
   "file_extension": ".py",
   "mimetype": "text/x-python",
   "name": "python",
   "nbconvert_exporter": "python",
   "pygments_lexer": "ipython3",
   "version": "3.10.11"
  }
 },
 "nbformat": 4,
 "nbformat_minor": 2
}
