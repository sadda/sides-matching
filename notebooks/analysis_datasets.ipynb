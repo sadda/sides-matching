{
 "cells": [
  {
   "cell_type": "code",
   "execution_count": null,
   "metadata": {},
   "outputs": [],
   "source": [
    "import sys\n",
    "sys.path.append('..')\n",
    "import os\n",
    "import numpy as np\n",
    "import pandas as pd\n",
    "from wildlife_datasets import datasets\n",
    "from sides_matching import get_dataset\n",
    "\n",
    "root_datasets = '../data'\n",
    "data = [\n",
    "    ('Zakynthos-Loggerheads', datasets.ZakynthosTurtles, {}),    \n",
    "    ('Amvrakikos-Loggerheads', datasets.AmvrakikosTurtles, {}),\n",
    "    ('Reunion-Greens', datasets.ReunionTurtles, {'species': 'Green'}),\n",
    "    ('Reunion-Hawksbills', datasets.ReunionTurtles, {'species': 'Hawksbill'}),\n",
    "]"
   ]
  },
  {
   "cell_type": "code",
   "execution_count": null,
   "metadata": {},
   "outputs": [],
   "source": [
    "def get_summary(df):\n",
    "    spans = []\n",
    "    for _, df_identity in df.groupby('identity'):\n",
    "        span = df_identity['year'].max() - df_identity['year'].min()\n",
    "        spans.append(span)\n",
    "\n",
    "    data = {\n",
    "        'Ind.': df['identity'].nunique(),\n",
    "        'Photos': len(df),\n",
    "        'Avg. span': np.mean(spans),\n",
    "    }\n",
    "    return data"
   ]
  },
  {
   "cell_type": "code",
   "execution_count": null,
   "metadata": {},
   "outputs": [],
   "source": [
    "summary = {}\n",
    "for name, dataset_class, subset in data:\n",
    "    root = os.path.join(root_datasets, dataset_class.__name__)\n",
    "    df = get_dataset(dataset_class, root).df\n",
    "    for key in subset:\n",
    "        df = df[df[key] == subset[key]]\n",
    "    summary[name] = get_summary(df)\n",
    "\n",
    "summary = pd.DataFrame(summary).T\n",
    "summary[['Ind.', 'Photos']] = summary[['Ind.', 'Photos']].astype(np.int64)\n",
    "summary    "
   ]
  }
 ],
 "metadata": {
  "kernelspec": {
   "display_name": "venv",
   "language": "python",
   "name": "python3"
  },
  "language_info": {
   "codemirror_mode": {
    "name": "ipython",
    "version": 3
   },
   "file_extension": ".py",
   "mimetype": "text/x-python",
   "name": "python",
   "nbconvert_exporter": "python",
   "pygments_lexer": "ipython3",
   "version": "3.10.12"
  }
 },
 "nbformat": 4,
 "nbformat_minor": 2
}
