{
 "cells": [
  {
   "cell_type": "code",
   "execution_count": 1,
   "metadata": {},
   "outputs": [],
   "source": [
    "import sys\n",
    "sys.path.append('..')\n",
    "import os\n",
    "import numpy as np\n",
    "import pandas as pd\n",
    "from wildlife_datasets import datasets\n",
    "from sides_matching import get_dataset\n",
    "\n",
    "root_datasets = '../data'\n",
    "data = [\n",
    "    ('Zakynthos-Loggerheads', datasets.ZakynthosTurtles, {}),    \n",
    "    ('Amvrakikos-Loggerheads', datasets.AmvrakikosTurtles, {}),\n",
    "    ('Reunion-Greens', datasets.ReunionTurtles, {'species': 'Green'}),\n",
    "    ('Reunion-Hawksbills', datasets.ReunionTurtles, {'species': 'Hawksbill'}),\n",
    "]"
   ]
  },
  {
   "cell_type": "code",
   "execution_count": 2,
   "metadata": {},
   "outputs": [],
   "source": [
    "def get_summary(df):\n",
    "    spans = []\n",
    "    for _, df_identity in df.groupby('identity'):\n",
    "        span = df_identity['year'].max() - df_identity['year'].min()\n",
    "        spans.append(span)\n",
    "\n",
    "    data = {\n",
    "        'Ind.': df['identity'].nunique(),\n",
    "        'Photos': len(df),\n",
    "        'Avg. span': np.mean(spans),\n",
    "    }\n",
    "    return data"
   ]
  },
  {
   "cell_type": "code",
   "execution_count": 3,
   "metadata": {},
   "outputs": [
    {
     "data": {
      "text/html": [
       "<div>\n",
       "<style scoped>\n",
       "    .dataframe tbody tr th:only-of-type {\n",
       "        vertical-align: middle;\n",
       "    }\n",
       "\n",
       "    .dataframe tbody tr th {\n",
       "        vertical-align: top;\n",
       "    }\n",
       "\n",
       "    .dataframe thead th {\n",
       "        text-align: right;\n",
       "    }\n",
       "</style>\n",
       "<table border=\"1\" class=\"dataframe\">\n",
       "  <thead>\n",
       "    <tr style=\"text-align: right;\">\n",
       "      <th></th>\n",
       "      <th>Ind.</th>\n",
       "      <th>Photos</th>\n",
       "      <th>Avg. span</th>\n",
       "    </tr>\n",
       "  </thead>\n",
       "  <tbody>\n",
       "    <tr>\n",
       "      <th>Zakynthos-Loggerheads</th>\n",
       "      <td>40</td>\n",
       "      <td>160</td>\n",
       "      <td>2.525000</td>\n",
       "    </tr>\n",
       "    <tr>\n",
       "      <th>Amvrakikos-Loggerheads</th>\n",
       "      <td>50</td>\n",
       "      <td>200</td>\n",
       "      <td>4.440000</td>\n",
       "    </tr>\n",
       "    <tr>\n",
       "      <th>Reunion-Greens</th>\n",
       "      <td>50</td>\n",
       "      <td>200</td>\n",
       "      <td>4.680000</td>\n",
       "    </tr>\n",
       "    <tr>\n",
       "      <th>Reunion-Hawksbills</th>\n",
       "      <td>34</td>\n",
       "      <td>136</td>\n",
       "      <td>3.411765</td>\n",
       "    </tr>\n",
       "  </tbody>\n",
       "</table>\n",
       "</div>"
      ],
      "text/plain": [
       "                        Ind.  Photos  Avg. span\n",
       "Zakynthos-Loggerheads     40     160   2.525000\n",
       "Amvrakikos-Loggerheads    50     200   4.440000\n",
       "Reunion-Greens            50     200   4.680000\n",
       "Reunion-Hawksbills        34     136   3.411765"
      ]
     },
     "execution_count": 3,
     "metadata": {},
     "output_type": "execute_result"
    }
   ],
   "source": [
    "summary = {}\n",
    "for name, dataset_class, subset in data:\n",
    "    root = os.path.join(root_datasets, dataset_class.__name__)\n",
    "    df = get_dataset(dataset_class, root).df\n",
    "    for key in subset:\n",
    "        df = df[df[key] == subset[key]]\n",
    "    summary[name] = get_summary(df)\n",
    "\n",
    "summary = pd.DataFrame(summary).T\n",
    "summary[['Ind.', 'Photos']] = summary[['Ind.', 'Photos']].astype(np.int64)\n",
    "summary    "
   ]
  }
 ],
 "metadata": {
  "kernelspec": {
   "display_name": "venv",
   "language": "python",
   "name": "python3"
  },
  "language_info": {
   "codemirror_mode": {
    "name": "ipython",
    "version": 3
   },
   "file_extension": ".py",
   "mimetype": "text/x-python",
   "name": "python",
   "nbconvert_exporter": "python",
   "pygments_lexer": "ipython3",
   "version": "3.10.12"
  }
 },
 "nbformat": 4,
 "nbformat_minor": 2
}
