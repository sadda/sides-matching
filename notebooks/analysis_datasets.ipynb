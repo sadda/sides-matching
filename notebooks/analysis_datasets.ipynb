{
 "cells": [
  {
   "cell_type": "code",
   "execution_count": 1,
   "metadata": {},
   "outputs": [
    {
     "name": "stderr",
     "output_type": "stream",
     "text": [
      "/home/sadda/Projects/sides-matching/venv/lib/python3.10/site-packages/kornia/feature/lightglue.py:44: FutureWarning: `torch.cuda.amp.custom_fwd(args...)` is deprecated. Please use `torch.amp.custom_fwd(args..., device_type='cuda')` instead.\n",
      "  @torch.cuda.amp.custom_fwd(cast_inputs=torch.float32)\n"
     ]
    }
   ],
   "source": [
    "import sys\n",
    "sys.path.append('..')\n",
    "import os\n",
    "import numpy as np\n",
    "import pandas as pd\n",
    "from sides_matching import amvrakikos, reunion_green, reunion_hawksbill, zakynthos\n",
    "\n",
    "root_data = '/data/wildlife_datasets/data'\n",
    "data = [\n",
    "    ('Amvrakikos', os.path.join(root_data, 'AmvrakikosTurtles'), amvrakikos),\n",
    "    ('ReunionGreen', os.path.join(root_data, 'ReunionTurtles'), reunion_green),\n",
    "    ('ReunionHawksbill', os.path.join(root_data, 'ReunionTurtles'), reunion_hawksbill),\n",
    "    ('Zakynthos', os.path.join(root_data, 'ZakynthosTurtles'), zakynthos),\n",
    "]"
   ]
  },
  {
   "cell_type": "code",
   "execution_count": 2,
   "metadata": {},
   "outputs": [],
   "source": [
    "def get_summary(df):\n",
    "    spans = []\n",
    "    for _, df_identity in df.groupby('identity'):\n",
    "        span = df_identity['year'].max() - df_identity['year'].min()\n",
    "        spans.append(span)\n",
    "\n",
    "    data = {\n",
    "        'Ind.': df['identity'].nunique(),\n",
    "        'Photos': len(df),\n",
    "        'Avg. span': np.mean(spans),\n",
    "    }\n",
    "    return data"
   ]
  },
  {
   "cell_type": "code",
   "execution_count": 3,
   "metadata": {},
   "outputs": [
    {
     "data": {
      "text/html": [
       "<div>\n",
       "<style scoped>\n",
       "    .dataframe tbody tr th:only-of-type {\n",
       "        vertical-align: middle;\n",
       "    }\n",
       "\n",
       "    .dataframe tbody tr th {\n",
       "        vertical-align: top;\n",
       "    }\n",
       "\n",
       "    .dataframe thead th {\n",
       "        text-align: right;\n",
       "    }\n",
       "</style>\n",
       "<table border=\"1\" class=\"dataframe\">\n",
       "  <thead>\n",
       "    <tr style=\"text-align: right;\">\n",
       "      <th></th>\n",
       "      <th>Ind.</th>\n",
       "      <th>Photos</th>\n",
       "      <th>Avg. span</th>\n",
       "    </tr>\n",
       "  </thead>\n",
       "  <tbody>\n",
       "    <tr>\n",
       "      <th>Amvrakikos</th>\n",
       "      <td>50</td>\n",
       "      <td>200</td>\n",
       "      <td>4.440000</td>\n",
       "    </tr>\n",
       "    <tr>\n",
       "      <th>ReunionGreen</th>\n",
       "      <td>50</td>\n",
       "      <td>200</td>\n",
       "      <td>4.680000</td>\n",
       "    </tr>\n",
       "    <tr>\n",
       "      <th>ReunionHawksbill</th>\n",
       "      <td>34</td>\n",
       "      <td>136</td>\n",
       "      <td>3.411765</td>\n",
       "    </tr>\n",
       "    <tr>\n",
       "      <th>Zakynthos</th>\n",
       "      <td>40</td>\n",
       "      <td>160</td>\n",
       "      <td>2.525000</td>\n",
       "    </tr>\n",
       "  </tbody>\n",
       "</table>\n",
       "</div>"
      ],
      "text/plain": [
       "                  Ind.  Photos  Avg. span\n",
       "Amvrakikos          50     200   4.440000\n",
       "ReunionGreen        50     200   4.680000\n",
       "ReunionHawksbill    34     136   3.411765\n",
       "Zakynthos           40     160   2.525000"
      ]
     },
     "execution_count": 3,
     "metadata": {},
     "output_type": "execute_result"
    }
   ],
   "source": [
    "summary = {}\n",
    "for name, root, dataset_class in data:\n",
    "    dataset = dataset_class(root)\n",
    "    summary[name] = get_summary(dataset.df)\n",
    "\n",
    "summary = pd.DataFrame(summary).T\n",
    "summary[['Ind.', 'Photos']] = summary[['Ind.', 'Photos']].astype(np.int64)\n",
    "summary    "
   ]
  }
 ],
 "metadata": {
  "kernelspec": {
   "display_name": "venv",
   "language": "python",
   "name": "python3"
  },
  "language_info": {
   "codemirror_mode": {
    "name": "ipython",
    "version": 3
   },
   "file_extension": ".py",
   "mimetype": "text/x-python",
   "name": "python",
   "nbconvert_exporter": "python",
   "pygments_lexer": "ipython3",
   "version": "3.10.12"
  }
 },
 "nbformat": 4,
 "nbformat_minor": 2
}
